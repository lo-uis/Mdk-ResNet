{
 "cells": [
  {
   "cell_type": "code",
   "execution_count": 1,
   "id": "89545e07",
   "metadata": {},
   "outputs": [],
   "source": [
    "import pandas as pd\n",
    "import numpy as np\n",
    "from scipy import stats\n",
    "import pandas as pd\n",
    "import numpy as np\n",
    "import matplotlib.pyplot as plt\n",
    "from scipy import stats\n",
    "import torch\n",
    "import torch.nn as nn\n",
    "import torch.nn.functional as F\n",
    "import torch.optim as optim\n",
    "import torchvision\n",
    "from   torchvision import transforms\n",
    "from sklearn.model_selection import train_test_split\n",
    "from tqdm import tqdm\n",
    "from torch.utils.data import Dataset, DataLoader\n",
    "import io\n",
    "import cv2\n",
    "import math\n",
    "import torchvision.models as models\n",
    "\n"
   ]
  },
  {
   "cell_type": "code",
   "execution_count": 2,
   "id": "f220cf91",
   "metadata": {},
   "outputs": [],
   "source": [
    "class MDKModule(nn.Module):\n",
    "    \n",
    "    def __init__(self, in_channels, f_1x1, f_3x3_r, f_3x3, f_5x5_r, f_5x5, f_7x7_r,f_7x7):\n",
    "        super(MDKModule, self).__init__()\n",
    "        \n",
    "        self.branch1 = nn.Sequential(\n",
    "            ConvBlock(in_channels, f_1x1, kernel_size=1, stride=1, padding=0,dilation=1)\n",
    "        )\n",
    "        \n",
    "        self.branch2 = nn.Sequential(\n",
    "            ConvBlock(in_channels, f_3x3_r, kernel_size=3, stride=1, padding=1,dilation=1),\n",
    "            ConvBlock(f_3x3_r, f_3x3, kernel_size=3, stride=1, padding=1,dilation=1)\n",
    "        )\n",
    "        \n",
    "        self.branch3 = nn.Sequential(\n",
    "            ConvBlock(in_channels, f_5x5_r, kernel_size=3, stride=1, padding=2,dilation=2),\n",
    "            ConvBlock(f_5x5_r, f_5x5, kernel_size=3, stride=1, padding=2,dilation=2)\n",
    "        )\n",
    "        \n",
    "        self.branch4 = nn.Sequential(\n",
    "            ConvBlock(in_channels, f_7x7_r, kernel_size=3, stride=1, padding=4,dilation=4),\n",
    "            ConvBlock(f_7x7_r, f_7x7, kernel_size=3, stride=1, padding=4,dilation=4)\n",
    "        )\n",
    "        \n",
    "    def forward(self, x):\n",
    "        branch1 = self.branch1(x)\n",
    "        branch2 = self.branch2(x)\n",
    "        branch3 = self.branch3(x)\n",
    "        branch4 = self.branch4(x)\n",
    "        \n",
    "        return torch.cat([branch1, branch2, branch3, branch4], 1)"
   ]
  },
  {
   "cell_type": "code",
   "execution_count": 3,
   "id": "cbde1fa9",
   "metadata": {},
   "outputs": [],
   "source": [
    "class ConvBlock(nn.Module):\n",
    "    \n",
    "    def __init__(self, in_channels, out_channels, kernel_size, stride, padding,dilation):\n",
    "        super(ConvBlock, self).__init__()\n",
    "        \n",
    "        self.conv = nn.Conv2d(in_channels, out_channels, kernel_size, stride, padding,dilation)\n",
    "        self.bn = nn.BatchNorm2d(out_channels)\n",
    "        self.act = nn.ReLU()\n",
    "        \n",
    "    def forward(self, x):\n",
    "        x = self.conv(x)\n",
    "        x = self.bn(x)\n",
    "        x = self.act(x)\n",
    "        return x"
   ]
  },
  {
   "cell_type": "code",
   "execution_count": 4,
   "id": "29353a30",
   "metadata": {},
   "outputs": [],
   "source": [
    "class MDKResNet(nn.Module):\n",
    "    \n",
    "    def __init__(self, num_classes = 12):\n",
    "        super(MDKResNet, self).__init__()\n",
    "        self.bn = nn.BatchNorm2d(544)\n",
    "        self.conv1 = ConvBlock(6, 64, kernel_size=7, stride=2, padding=3,dilation=1)\n",
    "        self.pool1 = nn.MaxPool2d(3, stride=2, padding=0, ceil_mode=True)\n",
    "        self.conv2 = ConvBlock(64, 64, kernel_size=1, stride=1, padding=0,dilation=1)\n",
    "        self.conv3 = ConvBlock(64, 192, kernel_size=3, stride=1, padding=1,dilation=1)\n",
    "        self.pool3 = nn.MaxPool2d(3, stride=2, padding=0, ceil_mode=True)\n",
    "        self.inception3A = MDKModule(in_channels=6,\n",
    "                                           f_1x1=64,\n",
    "                                           f_3x3_r=32,   #2\n",
    "                                           f_3x3=64,\n",
    "                                           f_5x5_r=32,  #6\n",
    "                                           f_5x5=64,   \n",
    "                                           f_7x7_r=32,    #12\n",
    "                                          f_7x7=64)\n",
    "        self.inception3B = MDKModule(in_channels=256,\n",
    "                                           f_1x1=128,\n",
    "                                           f_3x3_r=64,\n",
    "                                           f_3x3=128,\n",
    "                                           f_5x5_r=64,\n",
    "                                           f_5x5=128,\n",
    "                                           f_7x7_r=64,\n",
    "                                          f_7x7=128)\n",
    "        self.inception4A = MDKModule(in_channels=512,\n",
    "                                           f_1x1=256,\n",
    "                                           f_3x3_r=128,\n",
    "                                           f_3x3=256,\n",
    "                                           f_5x5_r=128,\n",
    "                                           f_5x5=256,\n",
    "                                           f_7x7_r=128,\n",
    "                                           f_7x7=256)\n",
    "        self.inception4B = MDKModule(in_channels=1024,\n",
    "                                           f_1x1=512,\n",
    "                                           f_3x3_r=256,\n",
    "                                           f_3x3=512,\n",
    "                                           f_5x5_r=256,\n",
    "                                           f_5x5=512,\n",
    "                                           f_7x7_r=256,\n",
    "                                           f_7x7=512)\n",
    "        self.pool4 = nn.MaxPool2d(3, stride=2, padding=0, ceil_mode=True)\n",
    "        self.pool6 = nn.AdaptiveAvgPool2d((1,1))\n",
    "        self.dropout = nn.Dropout(0.4)\n",
    "        self.fc = nn.Linear(2048, num_classes)\n",
    "        self.bn = nn.BatchNorm2d(544)\n",
    "\n",
    "    def forward(self, x):\n",
    "       \n",
    "        \n",
    "        \n",
    "   \n",
    "        x= self.inception3A(x)\n",
    "        x = self.pool3(x)\n",
    "        x = self.inception3B(x)\n",
    "        x = self.pool3(x)\n",
    "        x = self.inception4A(x)\n",
    "        x = self.pool3(x)\n",
    "        x = self.inception4B(x)\n",
    "        x = self.pool6(x)\n",
    "        x = torch.flatten(x,1)\n",
    "        x = self.dropout(x)\n",
    "        x =self.fc(x)\n",
    "\n",
    "        return x\n",
    "      \n",
    "        \n",
    "        \n",
    "    \n"
   ]
  },
  {
   "cell_type": "code",
   "execution_count": 5,
   "id": "df111a24",
   "metadata": {},
   "outputs": [],
   "source": [
    "device = 'cuda:0' if torch.cuda.is_available() else 'cpu'"
   ]
  },
  {
   "cell_type": "code",
   "execution_count": 6,
   "id": "18cb661f",
   "metadata": {},
   "outputs": [],
   "source": [
    "model = MDKResNet()\n",
    "#model = nn.DataParallel(model)\n",
    "\n",
    "\n",
    "model = model.to(device)\n",
    " \n"
   ]
  },
  {
   "cell_type": "code",
   "execution_count": 7,
   "id": "0359231d",
   "metadata": {},
   "outputs": [],
   "source": [
    "import pandas as pd\n",
    "import numpy as np\n",
    "import matplotlib.pyplot as plt\n",
    "from scipy import stats\n",
    "import torch\n",
    "import torch.nn as nn\n",
    "import torch.nn.functional as F\n",
    "import torch.optim as optim\n",
    "import torchvision\n",
    "from   torchvision import transforms\n",
    "from sklearn.model_selection import train_test_split\n",
    "from tqdm import tqdm\n",
    "from torch.utils.data import Dataset, DataLoader\n",
    "random_seed = 611\n",
    "np.random.seed(random_seed)\n",
    "\n",
    "# matplotlib inline\n",
    "plt.style.use('ggplot')\n",
    "\n",
    "segments = np.load(\"/home/kitahara/segments_myorigin64_v1021.npy\",allow_pickle=True)\n",
    "labels = np.load(\"/home/kitahara/labels_myorigin64_v1021.npy\")\n",
    "\n",
    "labels = np.asarray(pd.get_dummies(labels),dtype = np.int8)\n",
    "\n",
    "labels_trans=[]\n",
    "for l in range(len(labels)):\n",
    "  select = np.where(labels[l]==1)\n",
    "  labels_trans.append(select)\n",
    "labels_trans = np.asarray(labels_trans)  \n",
    "#labels_trans = labels_trans.flatten()\n",
    "y_trans = []\n",
    "for i in range(len(labels)):\n",
    "  y_trans.append(labels_trans[i][0][0])\n",
    "\n",
    "target = np.array(y_trans)\n",
    "\n"
   ]
  },
  {
   "cell_type": "code",
   "execution_count": 8,
   "id": "46d6fc94",
   "metadata": {},
   "outputs": [],
   "source": [
    "acc_x = segments[:,:,0]\n",
    "acc_y =segments[:,:,1]\n",
    "acc_z = segments[:,:,2]"
   ]
  },
  {
   "cell_type": "code",
   "execution_count": 9,
   "id": "d87a8526",
   "metadata": {},
   "outputs": [],
   "source": [
    "from pyts.image import GramianAngularField\n",
    "from pyts.image import MarkovTransitionField"
   ]
  },
  {
   "cell_type": "code",
   "execution_count": 10,
   "id": "ce9caca5",
   "metadata": {},
   "outputs": [],
   "source": [
    "def transfer(array):\n",
    "  gasf = GramianAngularField(method='summation')\n",
    "  gasf = gasf.fit_transform(array)\n",
    "  #mtf = MarkovTransitionField(image_size=64)\n",
    "  #mtf = mtf.fit_transform(array)\n",
    "  gadf = GramianAngularField(method='difference')\n",
    "  gadf = gadf.fit_transform(array)\n",
    "  return gasf,gadf"
   ]
  },
  {
   "cell_type": "code",
   "execution_count": 11,
   "id": "154981a2",
   "metadata": {},
   "outputs": [],
   "source": [
    "x_gasf,x_gadf= transfer(acc_x)\n",
    "y_gasf,y_gadf = transfer(acc_y)\n",
    "z_gasf,z_gadf = transfer(acc_z)"
   ]
  },
  {
   "cell_type": "code",
   "execution_count": 12,
   "id": "46f42a19",
   "metadata": {},
   "outputs": [],
   "source": [
    "x_sf = x_gasf.reshape(x_gasf.shape[0],1,x_gasf.shape[1],x_gasf.shape[2])"
   ]
  },
  {
   "cell_type": "code",
   "execution_count": 13,
   "id": "e8fec0ea",
   "metadata": {},
   "outputs": [
    {
     "data": {
      "text/plain": [
       "(9468, 1, 64, 64)"
      ]
     },
     "execution_count": 13,
     "metadata": {},
     "output_type": "execute_result"
    }
   ],
   "source": [
    "x_sf.shape"
   ]
  },
  {
   "cell_type": "code",
   "execution_count": 14,
   "id": "315f6fcb",
   "metadata": {},
   "outputs": [],
   "source": [
    "x_df = x_gadf.reshape(x_gadf.shape[0],1,x_gadf.shape[1],x_gadf.shape[2])\n",
    "y_sf = y_gasf.reshape(y_gasf.shape[0],1,y_gasf.shape[1],y_gasf.shape[2])\n",
    "y_df = y_gadf.reshape(y_gadf.shape[0],1,y_gadf.shape[1],y_gadf.shape[2])\n",
    "z_sf = z_gasf.reshape(z_gasf.shape[0],1,z_gasf.shape[1],z_gasf.shape[2])\n",
    "z_df = z_gadf.reshape(z_gadf.shape[0],1,z_gadf.shape[1],z_gadf.shape[2])"
   ]
  },
  {
   "cell_type": "code",
   "execution_count": 15,
   "id": "0859066c",
   "metadata": {},
   "outputs": [
    {
     "data": {
      "text/plain": [
       "'R = np.hstack([x_gasf,x_gadf])\\nG = np.hstack([y_gasf,y_gadf])\\nB = np.hstack([z_gasf,z_gadf])\\n\\nR = R.reshape(R.shape[0],1,R.shape[1],R.shape[2])\\nG = G.reshape(G.shape[0],1,G.shape[1],G.shape[2])\\nB = B.reshape(B.shape[0],1,B.shape[1],B.shape[2])\\n\\nRGB = np.hstack([R,G,B])\\n\\nX = RGB'"
      ]
     },
     "execution_count": 15,
     "metadata": {},
     "output_type": "execute_result"
    }
   ],
   "source": [
    "\"\"\"R = np.hstack([x_gasf,x_gadf])\n",
    "G = np.hstack([y_gasf,y_gadf])\n",
    "B = np.hstack([z_gasf,z_gadf])\n",
    "\n",
    "R = R.reshape(R.shape[0],1,R.shape[1],R.shape[2])\n",
    "G = G.reshape(G.shape[0],1,G.shape[1],G.shape[2])\n",
    "B = B.reshape(B.shape[0],1,B.shape[1],B.shape[2])\n",
    "\n",
    "RGB = np.hstack([R,G,B])\n",
    "\n",
    "X = RGB\"\"\"\n"
   ]
  },
  {
   "cell_type": "code",
   "execution_count": 16,
   "id": "7f40ffde",
   "metadata": {},
   "outputs": [],
   "source": [
    "#R_gasf = x_gasf.reshape(x_gasf.shape[0],1,x_gasf.shape[1],x_gasf.shape[2])\n",
    "#G_gasf = y_gasf.reshape(y_gasf.shape[0],1,y_gasf.shape[1],y_gasf.shape[2])\n",
    "#B_gasf = z_gasf.reshape(z_gasf.shape[0],1,z_gasf.shape[1],z_gasf.shape[2])"
   ]
  },
  {
   "cell_type": "code",
   "execution_count": 17,
   "id": "1c8cd357",
   "metadata": {},
   "outputs": [],
   "source": [
    "#RGB_gasf = np.hstack([R_gasf,G_gasf,B_gasf])"
   ]
  },
  {
   "cell_type": "code",
   "execution_count": 18,
   "id": "9bbd6770",
   "metadata": {},
   "outputs": [],
   "source": [
    "#RGB_gasf.shape"
   ]
  },
  {
   "cell_type": "code",
   "execution_count": 19,
   "id": "4ce58613",
   "metadata": {},
   "outputs": [
    {
     "data": {
      "text/plain": [
       "'R_gadf = x_gadf.reshape(x_gadf.shape[0],1,x_gadf.shape[1],x_gadf.shape[2])\\nG_gadf = y_gadf.reshape(y_gadf.shape[0],1,y_gadf.shape[1],y_gadf.shape[2])\\nB_gadf = z_gadf.reshape(z_gadf.shape[0],1,z_gadf.shape[1],z_gadf.shape[2])'"
      ]
     },
     "execution_count": 19,
     "metadata": {},
     "output_type": "execute_result"
    }
   ],
   "source": [
    "\"\"\"R_gadf = x_gadf.reshape(x_gadf.shape[0],1,x_gadf.shape[1],x_gadf.shape[2])\n",
    "G_gadf = y_gadf.reshape(y_gadf.shape[0],1,y_gadf.shape[1],y_gadf.shape[2])\n",
    "B_gadf = z_gadf.reshape(z_gadf.shape[0],1,z_gadf.shape[1],z_gadf.shape[2])\"\"\""
   ]
  },
  {
   "cell_type": "code",
   "execution_count": 20,
   "id": "4a82ee77",
   "metadata": {},
   "outputs": [],
   "source": [
    "#RGB_gadf = np.hstack([R_gadf,G_gadf,B_gadf])"
   ]
  },
  {
   "cell_type": "code",
   "execution_count": 21,
   "id": "418c0e66",
   "metadata": {},
   "outputs": [],
   "source": [
    "#re_target = np.hstack([target,target])"
   ]
  },
  {
   "cell_type": "code",
   "execution_count": 22,
   "id": "0d201dc4",
   "metadata": {},
   "outputs": [],
   "source": [
    "#X = np.vstack([RGB_gasf,RGB_gadf])"
   ]
  },
  {
   "cell_type": "code",
   "execution_count": 23,
   "id": "36068fba",
   "metadata": {},
   "outputs": [],
   "source": [
    "X = np.hstack([x_sf,x_df,y_sf,y_df,z_sf,z_df])"
   ]
  },
  {
   "cell_type": "code",
   "execution_count": 24,
   "id": "4d4707d7",
   "metadata": {},
   "outputs": [
    {
     "data": {
      "text/plain": [
       "(9468, 6, 64, 64)"
      ]
     },
     "execution_count": 24,
     "metadata": {},
     "output_type": "execute_result"
    }
   ],
   "source": [
    "X.shape"
   ]
  },
  {
   "cell_type": "code",
   "execution_count": 25,
   "id": "b0399861",
   "metadata": {},
   "outputs": [],
   "source": [
    "#re_target.shape"
   ]
  },
  {
   "cell_type": "code",
   "execution_count": 26,
   "id": "fb1e11c0",
   "metadata": {},
   "outputs": [],
   "source": [
    "class MyDataset(Dataset):\n",
    "    def __init__(self, data, target, transform=None):\n",
    "        self.data = torch.from_numpy(data).float()\n",
    "        self.target = torch.from_numpy(target).long()\n",
    "        self.transform = transform\n",
    "        \n",
    "    def __getitem__(self, index):\n",
    "        x = self.data[index]\n",
    "        y = self.target[index]\n",
    "        \n",
    "        if self.transform:\n",
    "            x = self.transform(x)\n",
    "            \n",
    "        return x, y\n",
    "    \n",
    "    def __len__(self):\n",
    "        return len(self.data)"
   ]
  },
  {
   "cell_type": "code",
   "execution_count": 27,
   "id": "5638433d",
   "metadata": {},
   "outputs": [],
   "source": [
    "dataset = MyDataset(X, target)\n",
    "\n",
    "\n",
    "\n",
    "n_samples = len(dataset) # n_samples is 60000\n",
    "train_size = int(len(dataset) * 0.6) # train_size is 48000\n",
    "val_size = int(len(dataset) * 0.2)\n",
    "test_size = n_samples - train_size-val_size # val_size is 48000\n",
    "\n",
    "# shuffleしてから分割してくれる.\n",
    "train_dataset, val_dataset ,test_dataset= torch.utils.data.random_split(dataset, [train_size, val_size,test_size])\n",
    "\n"
   ]
  },
  {
   "cell_type": "code",
   "execution_count": 28,
   "id": "60078fd8",
   "metadata": {},
   "outputs": [],
   "source": [
    "\n",
    "batch_size = 16\n",
    "train_loader = torch.utils.data.DataLoader(train_dataset,batch_size=batch_size, shuffle=True, num_workers=2)\n",
    "val_loader = torch.utils.data.DataLoader(val_dataset,batch_size=batch_size, shuffle=False, num_workers=2)\n",
    "\n",
    "#dataloaders_dict = {\"train\": training_loader, \"val\": validation_loader}"
   ]
  },
  {
   "cell_type": "code",
   "execution_count": 29,
   "id": "daaeba4e",
   "metadata": {},
   "outputs": [],
   "source": [
    "class EarlyStopping:\n",
    "    \"\"\"earlystoppingクラス\"\"\"\n",
    "\n",
    "    def __init__(self, patience=10, verbose=False, path='checkpoint_model.pth'):\n",
    "        \"\"\"引数：最小値の非更新数カウンタ、表示設定、モデル格納path\"\"\"\n",
    "\n",
    "        self.patience = patience    #設定ストップカウンタ\n",
    "        self.verbose = verbose      #表示の有無\n",
    "        self.counter = 0            #現在のカウンタ値\n",
    "        self.best_score = None      #ベストスコア\n",
    "        self.early_stop = False     #ストップフラグ\n",
    "        self.val_loss_min = np.Inf   #前回のベストスコア記憶用\n",
    "        self.path = path             #ベストモデル格納path\n",
    "\n",
    "    def __call__(self, val_loss, model):\n",
    "        \"\"\"\n",
    "        特殊(call)メソッド\n",
    "        実際に学習ループ内で最小lossを更新したか否かを計算させる部分\n",
    "        \"\"\"\n",
    "        score = -val_loss\n",
    "\n",
    "        if self.best_score is None:  #1Epoch目の処理\n",
    "            self.best_score = score   #1Epoch目はそのままベストスコアとして記録する\n",
    "            self.checkpoint(val_loss, model)  #記録後にモデルを保存してスコア表示する\n",
    "        elif score < self.best_score:  # ベストスコアを更新できなかった場合\n",
    "            self.counter += 1   #ストップカウンタを+1\n",
    "            if self.verbose:  #表示を有効にした場合は経過を表示\n",
    "                print(f'EarlyStopping counter: {self.counter} out of {self.patience}')  #現在のカウンタを表示する \n",
    "            if self.counter >= self.patience:  #設定カウントを上回ったらストップフラグをTrueに変更\n",
    "                self.early_stop = True\n",
    "        else:  #ベストスコアを更新した場合\n",
    "            self.best_score = score  #ベストスコアを上書き\n",
    "            self.checkpoint(val_loss, model)  #モデルを保存してスコア表示\n",
    "            self.counter = 0  #ストップカウンタリセット\n",
    "\n",
    "    def checkpoint(self, val_loss, model):\n",
    "        '''ベストスコア更新時に実行されるチェックポイント関数'''\n",
    "        if self.verbose:  #表示を有効にした場合は、前回のベストスコアからどれだけ更新したか？を表示\n",
    "            print(f'Validation loss decreased ({self.val_loss_min:.6f} --> {val_loss:.6f}).  Saving model ...')\n",
    "        torch.save(model.state_dict(), self.path)  #ベストモデルを指定したpathに保存\n",
    "        self.val_loss_min = val_loss  #その時のlossを記録する"
   ]
  },
  {
   "cell_type": "code",
   "execution_count": 30,
   "id": "5979eb2e",
   "metadata": {},
   "outputs": [
    {
     "name": "stderr",
     "output_type": "stream",
     "text": [
      "100%|██████████| 355/355 [01:09<00:00,  5.10it/s]\n",
      "100%|██████████| 119/119 [00:03<00:00, 39.07it/s]\n",
      "  0%|          | 0/355 [00:00<?, ?it/s]"
     ]
    },
    {
     "name": "stdout",
     "output_type": "stream",
     "text": [
      "epoch * 1\n",
      "training loss: 0.0388, training acc 0.7886\n",
      "validation loss: 0.0217, validation acc0.8785\n",
      "Validation loss decreased (inf --> 0.021732).  Saving model ...\n"
     ]
    },
    {
     "name": "stderr",
     "output_type": "stream",
     "text": [
      "100%|██████████| 355/355 [01:13<00:00,  4.86it/s]\n",
      "100%|██████████| 119/119 [00:03<00:00, 36.73it/s]\n",
      "  0%|          | 0/355 [00:00<?, ?it/s]"
     ]
    },
    {
     "name": "stdout",
     "output_type": "stream",
     "text": [
      "epoch * 2\n",
      "training loss: 0.0139, training acc 0.9250\n",
      "validation loss: 0.0305, validation acc0.8447\n",
      "EarlyStopping counter: 1 out of 10\n"
     ]
    },
    {
     "name": "stderr",
     "output_type": "stream",
     "text": [
      "100%|██████████| 355/355 [01:12<00:00,  4.87it/s]\n",
      "100%|██████████| 119/119 [00:03<00:00, 36.25it/s]\n"
     ]
    },
    {
     "name": "stdout",
     "output_type": "stream",
     "text": [
      "epoch * 3\n",
      "training loss: 0.0091, training acc 0.9528\n",
      "validation loss: 0.0058, validation acc0.9720\n",
      "Validation loss decreased (0.021732 --> 0.005761).  Saving model ...\n"
     ]
    },
    {
     "name": "stderr",
     "output_type": "stream",
     "text": [
      "100%|██████████| 355/355 [01:12<00:00,  4.86it/s]\n",
      "100%|██████████| 119/119 [00:03<00:00, 36.00it/s]\n"
     ]
    },
    {
     "name": "stdout",
     "output_type": "stream",
     "text": [
      "epoch * 4\n",
      "training loss: 0.0061, training acc 0.9667\n",
      "validation loss: 0.0028, validation acc0.9857\n",
      "Validation loss decreased (0.005761 --> 0.002763).  Saving model ...\n"
     ]
    },
    {
     "name": "stderr",
     "output_type": "stream",
     "text": [
      "100%|██████████| 355/355 [01:12<00:00,  4.93it/s]\n",
      "100%|██████████| 119/119 [00:03<00:00, 36.91it/s]\n",
      "  0%|          | 0/355 [00:00<?, ?it/s]"
     ]
    },
    {
     "name": "stdout",
     "output_type": "stream",
     "text": [
      "epoch * 5\n",
      "training loss: 0.0047, training acc 0.9762\n",
      "validation loss: 0.0045, validation acc0.9794\n",
      "EarlyStopping counter: 1 out of 10\n"
     ]
    },
    {
     "name": "stderr",
     "output_type": "stream",
     "text": [
      "100%|██████████| 355/355 [01:12<00:00,  4.87it/s]\n",
      "100%|██████████| 119/119 [00:03<00:00, 37.91it/s]\n",
      "  0%|          | 0/355 [00:00<?, ?it/s]"
     ]
    },
    {
     "name": "stdout",
     "output_type": "stream",
     "text": [
      "epoch * 6\n",
      "training loss: 0.0039, training acc 0.9785\n",
      "validation loss: 0.0028, validation acc0.9857\n",
      "EarlyStopping counter: 2 out of 10\n"
     ]
    },
    {
     "name": "stderr",
     "output_type": "stream",
     "text": [
      "100%|██████████| 355/355 [01:12<00:00,  4.87it/s]\n",
      "100%|██████████| 119/119 [00:03<00:00, 37.54it/s]\n",
      "  0%|          | 0/355 [00:00<?, ?it/s]"
     ]
    },
    {
     "name": "stdout",
     "output_type": "stream",
     "text": [
      "epoch * 7\n",
      "training loss: 0.0061, training acc 0.9710\n",
      "validation loss: 0.0076, validation acc0.9678\n",
      "EarlyStopping counter: 3 out of 10\n"
     ]
    },
    {
     "name": "stderr",
     "output_type": "stream",
     "text": [
      "100%|██████████| 355/355 [01:12<00:00,  4.87it/s]\n",
      "100%|██████████| 119/119 [00:03<00:00, 38.53it/s]\n"
     ]
    },
    {
     "name": "stdout",
     "output_type": "stream",
     "text": [
      "epoch * 8\n",
      "training loss: 0.0030, training acc 0.9850\n",
      "validation loss: 0.0027, validation acc0.9820\n",
      "Validation loss decreased (0.002763 --> 0.002730).  Saving model ...\n"
     ]
    },
    {
     "name": "stderr",
     "output_type": "stream",
     "text": [
      "100%|██████████| 355/355 [01:12<00:00,  4.88it/s]\n",
      "100%|██████████| 119/119 [00:03<00:00, 36.21it/s]\n"
     ]
    },
    {
     "name": "stdout",
     "output_type": "stream",
     "text": [
      "epoch * 9\n",
      "training loss: 0.0038, training acc 0.9803\n",
      "validation loss: 0.0020, validation acc0.9894\n",
      "Validation loss decreased (0.002730 --> 0.002033).  Saving model ...\n"
     ]
    },
    {
     "name": "stderr",
     "output_type": "stream",
     "text": [
      "100%|██████████| 355/355 [01:12<00:00,  4.90it/s]\n",
      "100%|██████████| 119/119 [00:03<00:00, 36.20it/s]\n",
      "  0%|          | 0/355 [00:00<?, ?it/s]"
     ]
    },
    {
     "name": "stdout",
     "output_type": "stream",
     "text": [
      "epoch * 10\n",
      "training loss: 0.0030, training acc 0.9850\n",
      "validation loss: 0.0028, validation acc0.9831\n",
      "EarlyStopping counter: 1 out of 10\n"
     ]
    },
    {
     "name": "stderr",
     "output_type": "stream",
     "text": [
      "100%|██████████| 355/355 [01:12<00:00,  4.87it/s]\n",
      "100%|██████████| 119/119 [00:03<00:00, 38.92it/s]\n",
      "  0%|          | 0/355 [00:00<?, ?it/s]"
     ]
    },
    {
     "name": "stdout",
     "output_type": "stream",
     "text": [
      "epoch * 11\n",
      "training loss: 0.0019, training acc 0.9908\n",
      "validation loss: 0.0042, validation acc0.9820\n",
      "EarlyStopping counter: 2 out of 10\n"
     ]
    },
    {
     "name": "stderr",
     "output_type": "stream",
     "text": [
      "100%|██████████| 355/355 [01:12<00:00,  4.87it/s]\n",
      "100%|██████████| 119/119 [00:03<00:00, 37.16it/s]\n",
      "  0%|          | 0/355 [00:00<?, ?it/s]"
     ]
    },
    {
     "name": "stdout",
     "output_type": "stream",
     "text": [
      "epoch * 12\n",
      "training loss: 0.0045, training acc 0.9769\n",
      "validation loss: 0.0040, validation acc0.9789\n",
      "EarlyStopping counter: 3 out of 10\n"
     ]
    },
    {
     "name": "stderr",
     "output_type": "stream",
     "text": [
      "100%|██████████| 355/355 [01:12<00:00,  4.88it/s]\n",
      "100%|██████████| 119/119 [00:03<00:00, 36.82it/s]\n",
      "  0%|          | 0/355 [00:00<?, ?it/s]"
     ]
    },
    {
     "name": "stdout",
     "output_type": "stream",
     "text": [
      "epoch * 13\n",
      "training loss: 0.0023, training acc 0.9898\n",
      "validation loss: 0.0030, validation acc0.9847\n",
      "EarlyStopping counter: 4 out of 10\n"
     ]
    },
    {
     "name": "stderr",
     "output_type": "stream",
     "text": [
      "100%|██████████| 355/355 [01:12<00:00,  4.91it/s]\n",
      "100%|██████████| 119/119 [00:03<00:00, 36.63it/s]\n",
      "  0%|          | 0/355 [00:00<?, ?it/s]"
     ]
    },
    {
     "name": "stdout",
     "output_type": "stream",
     "text": [
      "epoch * 14\n",
      "training loss: 0.0029, training acc 0.9880\n",
      "validation loss: 0.0059, validation acc0.9757\n",
      "EarlyStopping counter: 5 out of 10\n"
     ]
    },
    {
     "name": "stderr",
     "output_type": "stream",
     "text": [
      "100%|██████████| 355/355 [01:12<00:00,  4.88it/s]\n",
      "100%|██████████| 119/119 [00:03<00:00, 36.73it/s]\n",
      "  0%|          | 0/355 [00:00<?, ?it/s]"
     ]
    },
    {
     "name": "stdout",
     "output_type": "stream",
     "text": [
      "epoch * 15\n",
      "training loss: 0.0025, training acc 0.9863\n",
      "validation loss: 0.0033, validation acc0.9868\n",
      "EarlyStopping counter: 6 out of 10\n"
     ]
    },
    {
     "name": "stderr",
     "output_type": "stream",
     "text": [
      "100%|██████████| 355/355 [01:12<00:00,  4.89it/s]\n",
      "100%|██████████| 119/119 [00:03<00:00, 36.95it/s]\n",
      "  0%|          | 0/355 [00:00<?, ?it/s]"
     ]
    },
    {
     "name": "stdout",
     "output_type": "stream",
     "text": [
      "epoch * 16\n",
      "training loss: 0.0016, training acc 0.9919\n",
      "validation loss: 0.0043, validation acc0.9789\n",
      "EarlyStopping counter: 7 out of 10\n"
     ]
    },
    {
     "name": "stderr",
     "output_type": "stream",
     "text": [
      "100%|██████████| 355/355 [01:13<00:00,  4.86it/s]\n",
      "100%|██████████| 119/119 [00:02<00:00, 39.76it/s]\n"
     ]
    },
    {
     "name": "stdout",
     "output_type": "stream",
     "text": [
      "epoch * 17\n",
      "training loss: 0.0021, training acc 0.9896\n",
      "validation loss: 0.0018, validation acc0.9894\n",
      "Validation loss decreased (0.002033 --> 0.001837).  Saving model ...\n"
     ]
    },
    {
     "name": "stderr",
     "output_type": "stream",
     "text": [
      "100%|██████████| 355/355 [01:13<00:00,  4.86it/s]\n",
      "100%|██████████| 119/119 [00:02<00:00, 40.38it/s]\n"
     ]
    },
    {
     "name": "stdout",
     "output_type": "stream",
     "text": [
      "epoch * 18\n",
      "training loss: 0.0024, training acc 0.9894\n",
      "validation loss: 0.0016, validation acc0.9931\n",
      "Validation loss decreased (0.001837 --> 0.001584).  Saving model ...\n"
     ]
    },
    {
     "name": "stderr",
     "output_type": "stream",
     "text": [
      "100%|██████████| 355/355 [01:12<00:00,  4.87it/s]\n",
      "100%|██████████| 119/119 [00:03<00:00, 39.21it/s]\n",
      "  0%|          | 0/355 [00:00<?, ?it/s]"
     ]
    },
    {
     "name": "stdout",
     "output_type": "stream",
     "text": [
      "epoch * 19\n",
      "training loss: 0.0013, training acc 0.9937\n",
      "validation loss: 0.0208, validation acc0.9218\n",
      "EarlyStopping counter: 1 out of 10\n"
     ]
    },
    {
     "name": "stderr",
     "output_type": "stream",
     "text": [
      "100%|██████████| 355/355 [01:12<00:00,  4.87it/s]\n",
      "100%|██████████| 119/119 [00:03<00:00, 39.50it/s]\n",
      "  0%|          | 0/355 [00:00<?, ?it/s]"
     ]
    },
    {
     "name": "stdout",
     "output_type": "stream",
     "text": [
      "epoch * 20\n",
      "training loss: 0.0027, training acc 0.9868\n",
      "validation loss: 0.0091, validation acc0.9757\n",
      "EarlyStopping counter: 2 out of 10\n"
     ]
    },
    {
     "name": "stderr",
     "output_type": "stream",
     "text": [
      "100%|██████████| 355/355 [01:12<00:00,  4.88it/s]\n",
      "100%|██████████| 119/119 [00:03<00:00, 36.32it/s]\n",
      "  0%|          | 0/355 [00:00<?, ?it/s]"
     ]
    },
    {
     "name": "stdout",
     "output_type": "stream",
     "text": [
      "epoch * 21\n",
      "training loss: 0.0038, training acc 0.9817\n",
      "validation loss: 0.0027, validation acc0.9921\n",
      "EarlyStopping counter: 3 out of 10\n"
     ]
    },
    {
     "name": "stderr",
     "output_type": "stream",
     "text": [
      "100%|██████████| 355/355 [01:12<00:00,  4.87it/s]\n",
      "100%|██████████| 119/119 [00:03<00:00, 36.65it/s]\n",
      "  0%|          | 0/355 [00:00<?, ?it/s]"
     ]
    },
    {
     "name": "stdout",
     "output_type": "stream",
     "text": [
      "epoch * 22\n",
      "training loss: 0.0014, training acc 0.9928\n",
      "validation loss: 0.0018, validation acc0.9921\n",
      "EarlyStopping counter: 4 out of 10\n"
     ]
    },
    {
     "name": "stderr",
     "output_type": "stream",
     "text": [
      "100%|██████████| 355/355 [01:12<00:00,  4.87it/s]\n",
      "100%|██████████| 119/119 [00:03<00:00, 36.50it/s]\n",
      "  0%|          | 0/355 [00:00<?, ?it/s]"
     ]
    },
    {
     "name": "stdout",
     "output_type": "stream",
     "text": [
      "epoch * 23\n",
      "training loss: 0.0022, training acc 0.9917\n",
      "validation loss: 0.0027, validation acc0.9868\n",
      "EarlyStopping counter: 5 out of 10\n"
     ]
    },
    {
     "name": "stderr",
     "output_type": "stream",
     "text": [
      "100%|██████████| 355/355 [01:12<00:00,  4.87it/s]\n",
      "100%|██████████| 119/119 [00:03<00:00, 36.45it/s]\n"
     ]
    },
    {
     "name": "stdout",
     "output_type": "stream",
     "text": [
      "epoch * 24\n",
      "training loss: 0.0010, training acc 0.9961\n",
      "validation loss: 0.0016, validation acc0.9910\n",
      "Validation loss decreased (0.001584 --> 0.001551).  Saving model ...\n"
     ]
    },
    {
     "name": "stderr",
     "output_type": "stream",
     "text": [
      "100%|██████████| 355/355 [01:13<00:00,  4.86it/s]\n",
      "100%|██████████| 119/119 [00:03<00:00, 36.71it/s]\n",
      "  0%|          | 0/355 [00:00<?, ?it/s]"
     ]
    },
    {
     "name": "stdout",
     "output_type": "stream",
     "text": [
      "epoch * 25\n",
      "training loss: 0.0004, training acc 0.9975\n",
      "validation loss: 0.0037, validation acc0.9878\n",
      "EarlyStopping counter: 1 out of 10\n"
     ]
    },
    {
     "name": "stderr",
     "output_type": "stream",
     "text": [
      "100%|██████████| 355/355 [01:12<00:00,  4.87it/s]\n",
      "100%|██████████| 119/119 [00:03<00:00, 36.96it/s]\n",
      "  0%|          | 0/355 [00:00<?, ?it/s]"
     ]
    },
    {
     "name": "stdout",
     "output_type": "stream",
     "text": [
      "epoch * 26\n",
      "training loss: 0.0012, training acc 0.9938\n",
      "validation loss: 0.0025, validation acc0.9884\n",
      "EarlyStopping counter: 2 out of 10\n"
     ]
    },
    {
     "name": "stderr",
     "output_type": "stream",
     "text": [
      "100%|██████████| 355/355 [01:13<00:00,  4.85it/s]\n",
      "100%|██████████| 119/119 [00:03<00:00, 36.33it/s]\n",
      "  0%|          | 0/355 [00:00<?, ?it/s]"
     ]
    },
    {
     "name": "stdout",
     "output_type": "stream",
     "text": [
      "epoch * 27\n",
      "training loss: 0.0022, training acc 0.9919\n",
      "validation loss: 0.0048, validation acc0.9857\n",
      "EarlyStopping counter: 3 out of 10\n"
     ]
    },
    {
     "name": "stderr",
     "output_type": "stream",
     "text": [
      "100%|██████████| 355/355 [01:13<00:00,  4.86it/s]\n",
      "100%|██████████| 119/119 [00:03<00:00, 38.14it/s]\n",
      "  0%|          | 0/355 [00:00<?, ?it/s]"
     ]
    },
    {
     "name": "stdout",
     "output_type": "stream",
     "text": [
      "epoch * 28\n",
      "training loss: 0.0024, training acc 0.9908\n",
      "validation loss: 0.0023, validation acc0.9889\n",
      "EarlyStopping counter: 4 out of 10\n"
     ]
    },
    {
     "name": "stderr",
     "output_type": "stream",
     "text": [
      "100%|██████████| 355/355 [01:13<00:00,  4.86it/s]\n",
      "100%|██████████| 119/119 [00:03<00:00, 37.03it/s]\n",
      "  0%|          | 0/355 [00:00<?, ?it/s]"
     ]
    },
    {
     "name": "stdout",
     "output_type": "stream",
     "text": [
      "epoch * 29\n",
      "training loss: 0.0008, training acc 0.9967\n",
      "validation loss: 0.0022, validation acc0.9921\n",
      "EarlyStopping counter: 5 out of 10\n"
     ]
    },
    {
     "name": "stderr",
     "output_type": "stream",
     "text": [
      "100%|██████████| 355/355 [01:12<00:00,  4.86it/s]\n",
      "100%|██████████| 119/119 [00:03<00:00, 38.08it/s]\n",
      "  0%|          | 0/355 [00:00<?, ?it/s]"
     ]
    },
    {
     "name": "stdout",
     "output_type": "stream",
     "text": [
      "epoch * 30\n",
      "training loss: 0.0004, training acc 0.9975\n",
      "validation loss: 0.0026, validation acc0.9873\n",
      "EarlyStopping counter: 6 out of 10\n"
     ]
    },
    {
     "name": "stderr",
     "output_type": "stream",
     "text": [
      "100%|██████████| 355/355 [01:12<00:00,  4.87it/s]\n",
      "100%|██████████| 119/119 [00:03<00:00, 37.55it/s]\n",
      "  0%|          | 0/355 [00:00<?, ?it/s]"
     ]
    },
    {
     "name": "stdout",
     "output_type": "stream",
     "text": [
      "epoch * 31\n",
      "training loss: 0.0012, training acc 0.9928\n",
      "validation loss: 0.0027, validation acc0.9900\n",
      "EarlyStopping counter: 7 out of 10\n"
     ]
    },
    {
     "name": "stderr",
     "output_type": "stream",
     "text": [
      "100%|██████████| 355/355 [01:13<00:00,  4.86it/s]\n",
      "100%|██████████| 119/119 [00:03<00:00, 37.17it/s]\n",
      "  0%|          | 0/355 [00:00<?, ?it/s]"
     ]
    },
    {
     "name": "stdout",
     "output_type": "stream",
     "text": [
      "epoch * 32\n",
      "training loss: 0.0013, training acc 0.9942\n",
      "validation loss: 0.0020, validation acc0.9921\n",
      "EarlyStopping counter: 8 out of 10\n"
     ]
    },
    {
     "name": "stderr",
     "output_type": "stream",
     "text": [
      "100%|██████████| 355/355 [01:12<00:00,  4.86it/s]\n",
      "100%|██████████| 119/119 [00:03<00:00, 36.59it/s]\n",
      "  0%|          | 0/355 [00:00<?, ?it/s]"
     ]
    },
    {
     "name": "stdout",
     "output_type": "stream",
     "text": [
      "epoch * 33\n",
      "training loss: 0.0015, training acc 0.9940\n",
      "validation loss: 0.0019, validation acc0.9926\n",
      "EarlyStopping counter: 9 out of 10\n"
     ]
    },
    {
     "name": "stderr",
     "output_type": "stream",
     "text": [
      "100%|██████████| 355/355 [01:12<00:00,  4.87it/s]\n",
      "100%|██████████| 119/119 [00:03<00:00, 36.65it/s]"
     ]
    },
    {
     "name": "stdout",
     "output_type": "stream",
     "text": [
      "epoch * 34\n",
      "training loss: 0.0010, training acc 0.9952\n",
      "validation loss: 0.0022, validation acc0.9905\n",
      "EarlyStopping counter: 10 out of 10\n",
      "Early stopping\n"
     ]
    },
    {
     "name": "stderr",
     "output_type": "stream",
     "text": [
      "\n"
     ]
    }
   ],
   "source": [
    "\n",
    "\n",
    "criterion = nn.CrossEntropyLoss()\n",
    "#変更\n",
    "optimizer = optim.Adam(model.parameters(),lr=0.001)\n",
    "\n",
    "epochs = 100\n",
    "running_loss_history = []\n",
    "running_corrects_history = []\n",
    "val_running_loss_history = []\n",
    "val_running_corrects_history = []\n",
    "early_stopping = EarlyStopping(patience=10, verbose=True)  # early stopping patience; how long to wait after last time validation loss improved.\n",
    "\n",
    "for e in range(epochs):\n",
    "  \n",
    "  running_loss = 0.0\n",
    "  running_corrects = 0.0\n",
    "  val_running_loss = 0.0\n",
    "  val_running_corrects = 0.0\n",
    "\n",
    "  model.train() #学習モード\n",
    "  \n",
    "  for inputs, labels in tqdm(train_loader):\n",
    "#     DataLoaderのバッチサイズごとにforで取り出して計算\n",
    "#     ここのforの処理が終わると1エポック\n",
    "    inputs = inputs.to(device)\n",
    "    labels = labels.to(device)\n",
    "    outputs = model(inputs)\n",
    "    loss = criterion(outputs, labels)\n",
    "    \n",
    "#     一旦パラメーターの勾配をゼロにして\n",
    "    optimizer.zero_grad()\n",
    "#     勾配の計算\n",
    "    loss.backward()\n",
    "#     学習\n",
    "    optimizer.step()\n",
    "    \n",
    "#     分類わけなので、もっとも数字が大きいものをpredictとする\n",
    "#     バッチ処理しているので2次元目で比較\n",
    "    _, preds = torch.max(outputs, 1)\n",
    "    running_loss += loss.item()\n",
    "#     ラベルと合っているものを足し合わせてaccuracy計算\n",
    "    running_corrects += torch.sum(preds == labels.data)\n",
    "  \n",
    "  model.eval() #検証モード\n",
    "#     pytorchでは勾配の計算の高速化のため、パラメーターを保持しているがテスト時はいらないので止める\n",
    "  with torch.no_grad():\n",
    "    for val_inputs, val_labels in tqdm(val_loader):\n",
    "      val_inputs = val_inputs.to(device)\n",
    "      val_labels = val_labels.to(device)\n",
    "      val_outputs = model(val_inputs)\n",
    "      val_loss = criterion(val_outputs, val_labels)\n",
    "      \n",
    "      _, val_preds = torch.max(val_outputs, 1)\n",
    "      val_running_loss += val_loss.item()\n",
    "      val_running_corrects += torch.sum(val_preds == val_labels.data)\n",
    "      \n",
    "#   学習過程を記録\n",
    "  epoch_loss = running_loss/len(train_loader.dataset)\n",
    "  epoch_acc = running_corrects.float()/ len(train_loader.dataset)\n",
    "  running_loss_history.append(epoch_loss)\n",
    "  running_corrects_history.append(epoch_acc)\n",
    "  \n",
    "  val_epoch_loss = val_running_loss/len(val_loader.dataset)\n",
    "#     print('len-validation_loader :'+str(len(validation_loader)))\n",
    "#     print('len-validation_loader :'+str(len(validation_loader.dataset)))\n",
    "  val_epoch_acc = val_running_corrects.float()/len(val_loader.dataset)\n",
    "  val_running_loss_history.append(val_epoch_loss)\n",
    "  val_running_corrects_history.append(val_epoch_acc)\n",
    "  \n",
    "  print('epoch *', (e+1))\n",
    "  print('training loss: {:.4f}, training acc {:.4f}'.format(epoch_loss, epoch_acc.item()))\n",
    "  print('validation loss: {:.4f}, validation acc{:.4f}'.format(val_epoch_loss,val_epoch_acc.item()))\n",
    "\n",
    "  early_stopping(val_epoch_loss, model)\n",
    "        \n",
    "  if early_stopping.early_stop:\n",
    "   print(\"Early stopping\")\n",
    "   break\n",
    "#学習済みモデルの保存\n",
    "save_path = './mdkres_myorigin_1021_hiss.pth'\n",
    "torch.save(model.state_dict(), save_path)"
   ]
  },
  {
   "cell_type": "code",
   "execution_count": 31,
   "id": "3a7f0964",
   "metadata": {},
   "outputs": [
    {
     "data": {
      "text/plain": [
       "<matplotlib.legend.Legend at 0x7f47f0819198>"
      ]
     },
     "execution_count": 31,
     "metadata": {},
     "output_type": "execute_result"
    },
    {
     "data": {
      "image/png": "[encoded data removed]",
      "text/plain": [
       "<Figure size 432x288 with 1 Axes>"
      ]
     },
     "metadata": {},
     "output_type": "display_data"
    }
   ],
   "source": [
    "plt.plot(running_loss_history, label='training loss')\n",
    "plt.plot(val_running_loss_history, label='validation loss')\n",
    "plt.legend()"
   ]
  },
  {
   "cell_type": "code",
   "execution_count": 32,
   "id": "fcc3f288",
   "metadata": {},
   "outputs": [
    {
     "data": {
      "text/plain": [
       "<matplotlib.legend.Legend at 0x7f47f0da1cf8>"
      ]
     },
     "execution_count": 32,
     "metadata": {},
     "output_type": "execute_result"
    },
    {
     "data": {
      "image/png": "[encoded data removed]",
      "text/plain": [
       "<Figure size 432x288 with 1 Axes>"
      ]
     },
     "metadata": {},
     "output_type": "display_data"
    }
   ],
   "source": [
    "plt.plot(running_corrects_history, label='training accuracy')\n",
    "plt.plot(val_running_corrects_history, label='validation accuracy')\n",
    "plt.legend()"
   ]
  },
  {
   "cell_type": "code",
   "execution_count": 33,
   "id": "05006dfb",
   "metadata": {},
   "outputs": [],
   "source": [
    "device = 'cuda:0' if torch.cuda.is_available() else 'cpu'"
   ]
  },
  {
   "cell_type": "code",
   "execution_count": 34,
   "id": "11d23a3a",
   "metadata": {},
   "outputs": [
    {
     "data": {
      "text/plain": [
       "<All keys matched successfully>"
      ]
     },
     "execution_count": 34,
     "metadata": {},
     "output_type": "execute_result"
    }
   ],
   "source": [
    "model.load_state_dict(torch.load(\"mdkres_myorigin_1021_hiss.pth\"))"
   ]
  },
  {
   "cell_type": "code",
   "execution_count": 35,
   "id": "fc2763bd",
   "metadata": {},
   "outputs": [],
   "source": [
    "test_loader = torch.utils.data.DataLoader(test_dataset,batch_size=1, shuffle=False, num_workers=2)"
   ]
  },
  {
   "cell_type": "code",
   "execution_count": 36,
   "id": "8161bd92",
   "metadata": {},
   "outputs": [
    {
     "name": "stderr",
     "output_type": "stream",
     "text": [
      "100%|██████████| 1895/1895 [00:00<00:00, 117157.60it/s]\n"
     ]
    }
   ],
   "source": [
    "y_true=[]\n",
    "for inputs, labels in tqdm(test_dataset):\n",
    "    \n",
    "    y_true.append(str(int(labels)))\n",
    "    "
   ]
  },
  {
   "cell_type": "code",
   "execution_count": 37,
   "id": "de73dbe2",
   "metadata": {},
   "outputs": [
    {
     "name": "stderr",
     "output_type": "stream",
     "text": [
      "100%|██████████| 1895/1895 [00:19<00:00, 99.08it/s] \n"
     ]
    }
   ],
   "source": [
    "model.eval()  # ネットワークを推論モードに切り替える\n",
    "\n",
    "y_pred = []\n",
    "# データローダーから1ミニバッチずつ取り出して計算する\n",
    "for inputs, labels in tqdm(test_loader):\n",
    "    #data, target,id = Variable(data), Variable(target), Variable(id) # 微分可能に変換\n",
    "    inputs = inputs.to(device)\n",
    "    labels = labels.to(device)\n",
    "    \n",
    "    output= model(inputs)  # 入力dataをinputし、出力を求める\n",
    "\n",
    "    # 推論する\n",
    "    #pred = output1.data.max(1, keepdim=True)[1]  # 出力ラベルを求める\n",
    "    _1, pred = torch.max(output, 1)\n",
    "    y_pred.append(str(int(pred)))\n",
    "   \n",
    "        "
   ]
  },
  {
   "cell_type": "code",
   "execution_count": 38,
   "id": "bac2849d",
   "metadata": {},
   "outputs": [],
   "source": [
    "from sklearn.metrics import recall_score, precision_score, f1_score,accuracy_score\n",
    "average = \"macro\""
   ]
  },
  {
   "cell_type": "code",
   "execution_count": 39,
   "id": "f6c3ff1b",
   "metadata": {},
   "outputs": [
    {
     "name": "stdout",
     "output_type": "stream",
     "text": [
      "0.9848231934846665\n"
     ]
    }
   ],
   "source": [
    "print(recall_score(y_true=y_true, y_pred=y_pred, average=average))"
   ]
  },
  {
   "cell_type": "code",
   "execution_count": 45,
   "id": "c54b7212",
   "metadata": {},
   "outputs": [
    {
     "name": "stdout",
     "output_type": "stream",
     "text": [
      "0.9889182058047493\n"
     ]
    }
   ],
   "source": [
    "print(accuracy_score(y_true=y_true, y_pred=y_pred))"
   ]
  },
  {
   "cell_type": "code",
   "execution_count": 40,
   "id": "d5874b31",
   "metadata": {},
   "outputs": [
    {
     "name": "stdout",
     "output_type": "stream",
     "text": [
      "0.9849811362199246\n"
     ]
    }
   ],
   "source": [
    "print(precision_score(y_true=y_true, y_pred=y_pred, average=average))"
   ]
  },
  {
   "cell_type": "code",
   "execution_count": 41,
   "id": "52164b81",
   "metadata": {},
   "outputs": [
    {
     "name": "stdout",
     "output_type": "stream",
     "text": [
      "0.9845747608006202\n"
     ]
    }
   ],
   "source": [
    "print(f1_score(y_true=y_true, y_pred=y_pred, average=average))"
   ]
  },
  {
   "cell_type": "code",
   "execution_count": 42,
   "id": "e14b8712",
   "metadata": {},
   "outputs": [
    {
     "name": "stdout",
     "output_type": "stream",
     "text": [
      "[[ 72   1   0   0   0   0   1   0   0   0   0   0]\n",
      " [  0 101   0   0   0   1   2   0   0   0   0   0]\n",
      " [  0   0 106   1   0   0   0   0   0   0   0   9]\n",
      " [  0   0   0 203   0   0   0   0   0   0   0   0]\n",
      " [  0   0   0   0 267   0   0   0   0   0   0   0]\n",
      " [  0   1   0   0   0  95   0   0   0   0   0   0]\n",
      " [  1   0   0   0   0   0 114   0   0   0   0   0]\n",
      " [  0   0   0   0   0   0   0 171   0   0   0   0]\n",
      " [  0   0   0   0   0   0   0   0 203   2   0   0]\n",
      " [  0   0   0   0   0   0   1   0   1 177   0   0]\n",
      " [  0   0   0   0   0   0   0   0   0   0 264   0]\n",
      " [  0   0   0   0   0   0   0   0   0   0   0 101]]\n"
     ]
    }
   ],
   "source": [
    "from sklearn.metrics import confusion_matrix\n",
    "print(confusion_matrix(y_true, y_pred))"
   ]
  },
  {
   "cell_type": "code",
   "execution_count": 46,
   "id": "5ddebab9",
   "metadata": {},
   "outputs": [],
   "source": [
    "import pandas as pd\n",
    "import seaborn as sns\n",
    "from sklearn.metrics import confusion_matrix\n",
    "import matplotlib.pyplot as plt\n",
    "\n",
    "def print_cmx(y_true, y_pred):\n",
    "    labels = sorted(list(set(y_true)))\n",
    "    cmx_data = confusion_matrix(y_true, y_pred, labels=labels)\n",
    "    \n",
    "    df_cmx = pd.DataFrame(cmx_data, index=[\"backdown\",\"backup\",\"backwalk\",\"frontdown\",\"frontup\",\"frontwalk\",\"smadown\",\"smaup\",\"smawalk\",\"udedown\",\"udeup\",\"udewalk\"], columns=[\"backdown\",\"backup\",\"backwalk\",\"frontdown\",\"frontup\",\"frontwalk\",\"smadown\",\"smaup\",\"smawalk\",\"udedown\",\"udeup\",\"udewalk\"])\n",
    "\n",
    "    plt.figure(figsize = (10,7))\n",
    "    sns.heatmap(df_cmx, annot=True,fmt='d')\n",
    "    plt.show()"
   ]
  },
  {
   "cell_type": "code",
   "execution_count": 47,
   "id": "89693a7d",
   "metadata": {},
   "outputs": [
    {
     "data": {
      "image/png": "[encoded data removed]",
      "text/plain": [
       "<Figure size 720x504 with 2 Axes>"
      ]
     },
     "metadata": {},
     "output_type": "display_data"
    }
   ],
   "source": [
    "print_cmx(y_true,y_pred)"
   ]
  },
  {
   "cell_type": "code",
   "execution_count": null,
   "id": "d6981074",
   "metadata": {},
   "outputs": [],
   "source": []
  }
 ],
 "metadata": {
  "kernelspec": {
   "display_name": "Python 3",
   "language": "python",
   "name": "python3"
  },
  "language_info": {
   "codemirror_mode": {
    "name": "ipython",
    "version": 3
   },
   "file_extension": ".py",
   "mimetype": "text/x-python",
   "name": "python",
   "nbconvert_exporter": "python",
   "pygments_lexer": "ipython3",
   "version": "3.6.12"
  }
 },
 "nbformat": 4,
 "nbformat_minor": 5
}
